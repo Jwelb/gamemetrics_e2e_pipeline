{
 "cells": [
  {
   "cell_type": "code",
   "execution_count": 7,
   "metadata": {},
   "outputs": [
    {
     "name": "stdout",
     "output_type": "stream",
     "text": [
      "Requirement already satisfied: scrapy in c:\\users\\jordanspc\\appdata\\roaming\\python\\python310\\site-packages (2.11.2)\n",
      "Requirement already satisfied: tldextract in c:\\users\\jordanspc\\appdata\\roaming\\python\\python310\\site-packages (from scrapy) (5.1.2)\n",
      "Requirement already satisfied: pyOpenSSL>=21.0.0 in c:\\users\\jordanspc\\appdata\\roaming\\python\\python310\\site-packages (from scrapy) (24.2.1)\n",
      "Requirement already satisfied: itemadapter>=0.1.0 in c:\\users\\jordanspc\\appdata\\roaming\\python\\python310\\site-packages (from scrapy) (0.9.0)\n",
      "Requirement already satisfied: itemloaders>=1.0.1 in c:\\users\\jordanspc\\appdata\\roaming\\python\\python310\\site-packages (from scrapy) (1.3.2)\n",
      "Requirement already satisfied: w3lib>=1.17.0 in c:\\python310\\lib\\site-packages (from scrapy) (2.2.1)\n",
      "Requirement already satisfied: packaging in c:\\python310\\lib\\site-packages (from scrapy) (24.0)\n",
      "Requirement already satisfied: cryptography>=36.0.0 in c:\\users\\jordanspc\\appdata\\roaming\\python\\python310\\site-packages (from scrapy) (43.0.1)\n",
      "Requirement already satisfied: service-identity>=18.1.0 in c:\\users\\jordanspc\\appdata\\roaming\\python\\python310\\site-packages (from scrapy) (24.1.0)\n",
      "Requirement already satisfied: lxml>=4.4.1 in c:\\users\\jordanspc\\appdata\\roaming\\python\\python310\\site-packages (from scrapy) (5.3.0)\n",
      "Requirement already satisfied: setuptools in c:\\users\\jordanspc\\appdata\\roaming\\python\\python310\\site-packages (from scrapy) (75.1.0)\n",
      "Requirement already satisfied: parsel>=1.5.0 in c:\\users\\jordanspc\\appdata\\roaming\\python\\python310\\site-packages (from scrapy) (1.9.1)\n",
      "Requirement already satisfied: zope.interface>=5.1.0 in c:\\users\\jordanspc\\appdata\\roaming\\python\\python310\\site-packages (from scrapy) (7.1.0)\n",
      "Requirement already satisfied: protego>=0.1.15 in c:\\users\\jordanspc\\appdata\\roaming\\python\\python310\\site-packages (from scrapy) (0.3.1)\n",
      "Requirement already satisfied: cssselect>=0.9.1 in c:\\users\\jordanspc\\appdata\\roaming\\python\\python310\\site-packages (from scrapy) (1.2.0)\n",
      "Requirement already satisfied: Twisted>=18.9.0 in c:\\users\\jordanspc\\appdata\\roaming\\python\\python310\\site-packages (from scrapy) (24.7.0)\n",
      "Requirement already satisfied: defusedxml>=0.7.1 in c:\\users\\jordanspc\\appdata\\roaming\\python\\python310\\site-packages (from scrapy) (0.7.1)\n",
      "Requirement already satisfied: queuelib>=1.4.2 in c:\\users\\jordanspc\\appdata\\roaming\\python\\python310\\site-packages (from scrapy) (1.7.0)\n",
      "Requirement already satisfied: PyDispatcher>=2.0.5 in c:\\users\\jordanspc\\appdata\\roaming\\python\\python310\\site-packages (from scrapy) (2.0.7)\n",
      "Requirement already satisfied: cffi>=1.12 in c:\\python310\\lib\\site-packages (from cryptography>=36.0.0->scrapy) (1.15.1)\n",
      "Requirement already satisfied: pycparser in c:\\python310\\lib\\site-packages (from cffi>=1.12->cryptography>=36.0.0->scrapy) (2.21)\n",
      "Requirement already satisfied: jmespath>=0.9.5 in c:\\users\\jordanspc\\appdata\\roaming\\python\\python310\\site-packages (from itemloaders>=1.0.1->scrapy) (1.0.1)\n",
      "Requirement already satisfied: attrs>=19.1.0 in c:\\python310\\lib\\site-packages (from service-identity>=18.1.0->scrapy) (22.2.0)\n",
      "Requirement already satisfied: pyasn1 in c:\\users\\jordanspc\\appdata\\roaming\\python\\python310\\site-packages (from service-identity>=18.1.0->scrapy) (0.6.1)\n",
      "Requirement already satisfied: pyasn1-modules in c:\\users\\jordanspc\\appdata\\roaming\\python\\python310\\site-packages (from service-identity>=18.1.0->scrapy) (0.4.1)\n",
      "Requirement already satisfied: constantly>=15.1 in c:\\users\\jordanspc\\appdata\\roaming\\python\\python310\\site-packages (from Twisted>=18.9.0->scrapy) (23.10.4)\n",
      "Requirement already satisfied: automat>=0.8.0 in c:\\users\\jordanspc\\appdata\\roaming\\python\\python310\\site-packages (from Twisted>=18.9.0->scrapy) (24.8.1)\n",
      "Requirement already satisfied: incremental>=24.7.0 in c:\\users\\jordanspc\\appdata\\roaming\\python\\python310\\site-packages (from Twisted>=18.9.0->scrapy) (24.7.2)\n",
      "Requirement already satisfied: typing-extensions>=4.2.0 in c:\\python310\\lib\\site-packages (from Twisted>=18.9.0->scrapy) (4.8.0)\n",
      "Requirement already satisfied: hyperlink>=17.1.1 in c:\\users\\jordanspc\\appdata\\roaming\\python\\python310\\site-packages (from Twisted>=18.9.0->scrapy) (21.0.0)\n",
      "Requirement already satisfied: idna>=2.5 in c:\\python310\\lib\\site-packages (from hyperlink>=17.1.1->Twisted>=18.9.0->scrapy) (3.4)\n",
      "Requirement already satisfied: tomli in c:\\python310\\lib\\site-packages (from incremental>=24.7.0->Twisted>=18.9.0->scrapy) (2.0.2)\n",
      "Requirement already satisfied: filelock>=3.0.8 in c:\\users\\jordanspc\\appdata\\roaming\\python\\python310\\site-packages (from tldextract->scrapy) (3.13.1)\n",
      "Requirement already satisfied: requests>=2.1.0 in c:\\python310\\lib\\site-packages (from tldextract->scrapy) (2.28.2)\n",
      "Requirement already satisfied: requests-file>=1.4 in c:\\users\\jordanspc\\appdata\\roaming\\python\\python310\\site-packages (from tldextract->scrapy) (2.1.0)\n",
      "Requirement already satisfied: certifi>=2017.4.17 in c:\\python310\\lib\\site-packages (from requests>=2.1.0->tldextract->scrapy) (2022.12.7)\n",
      "Requirement already satisfied: urllib3<1.27,>=1.21.1 in c:\\python310\\lib\\site-packages (from requests>=2.1.0->tldextract->scrapy) (1.26.14)\n",
      "Requirement already satisfied: charset-normalizer<4,>=2 in c:\\python310\\lib\\site-packages (from requests>=2.1.0->tldextract->scrapy) (3.0.1)\n"
     ]
    },
    {
     "name": "stderr",
     "output_type": "stream",
     "text": [
      "WARNING: Ignoring invalid distribution -ip (c:\\python310\\lib\\site-packages)\n",
      "WARNING: Ignoring invalid distribution -ip (c:\\python310\\lib\\site-packages)\n",
      "WARNING: Ignoring invalid distribution -ip (c:\\python310\\lib\\site-packages)\n",
      "WARNING: Ignoring invalid distribution -ip (c:\\python310\\lib\\site-packages)\n"
     ]
    }
   ],
   "source": [
    "!pip install scrapy"
   ]
  },
  {
   "cell_type": "code",
   "execution_count": 10,
   "metadata": {},
   "outputs": [
    {
     "ename": "ModuleNotFoundError",
     "evalue": "No module named 'scrapy'",
     "output_type": "error",
     "traceback": [
      "\u001b[1;31m---------------------------------------------------------------------------\u001b[0m",
      "\u001b[1;31mModuleNotFoundError\u001b[0m                       Traceback (most recent call last)",
      "Cell \u001b[1;32mIn[10], line 1\u001b[0m\n\u001b[1;32m----> 1\u001b[0m \u001b[38;5;28;01mimport\u001b[39;00m \u001b[38;5;21;01mscrapy\u001b[39;00m\n",
      "\u001b[1;31mModuleNotFoundError\u001b[0m: No module named 'scrapy'"
     ]
    }
   ],
   "source": [
    "import scrapy"
   ]
  }
 ],
 "metadata": {
  "kernelspec": {
   "display_name": "Python 3",
   "language": "python",
   "name": "python3"
  },
  "language_info": {
   "codemirror_mode": {
    "name": "ipython",
    "version": 3
   },
   "file_extension": ".py",
   "mimetype": "text/x-python",
   "name": "python",
   "nbconvert_exporter": "python",
   "pygments_lexer": "ipython3",
   "version": "3.11.5"
  }
 },
 "nbformat": 4,
 "nbformat_minor": 2
}
